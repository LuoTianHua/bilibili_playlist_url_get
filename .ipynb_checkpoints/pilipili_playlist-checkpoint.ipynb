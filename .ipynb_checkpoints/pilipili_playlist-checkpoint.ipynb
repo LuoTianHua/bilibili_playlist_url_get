{
 "cells": [
  {
   "cell_type": "code",
   "execution_count": 18,
   "id": "4ccf1a08",
   "metadata": {
    "scrolled": true
   },
   "outputs": [
    {
     "name": "stdout",
     "output_type": "stream",
     "text": [
      "输入你的playlist id 如 1679364963 1723081263\n",
      "输入你收藏夹页码数 如31\n",
      "输出 playlist.txt 储存链接\n",
      "https://www.bilibili.com/video/BV1WX4y1p7US\n",
      "https://www.bilibili.com/video/BV1xs4y1a7Dm\n",
      "\n",
      " Site:      哔哩哔哩 bilibili.com\n",
      " Title:     【乐正龙牙AI】《晚夜微雨问海棠》“爱恨此消彼长 停步回望 我陪你同往”【原创PV付】\n",
      " Type:      video\n",
      " Stream:   \n",
      "     [80-7]  -------------------\n",
      "     Quality:         高清 1080P avc1.640032\n",
      "     Size:            33.55 MiB (35176589 Bytes)\n",
      "     # download with: lux -f 80-7 ...\n",
      "\n",
      "Merging video parts into E:\\LTH\\Music\\bilibili_video\\【乐正龙牙AI】《晚夜微雨问海棠》“爱恨此消彼长 停步回望 我陪你同往”【原创PV付】.mp4\n",
      "\n",
      " Site:      哔哩哔哩 bilibili.com\n",
      " Title:     【洛天依AI】《海市蜃楼》多像个童话，刻画成我眼里的年华【原创PV付】\n",
      " Type:      video\n",
      " Stream:   \n",
      "     [80-7]  -------------------\n",
      "     Quality:         高清 1080P avc1.640032\n",
      "     Size:            31.90 MiB (33451771 Bytes)\n",
      "     # download with: lux -f 80-7 ...\n",
      "\n",
      "Merging video parts into E:\\LTH\\Music\\bilibili_video\\【洛天依AI】《海市蜃楼》多像个童话，刻画成我眼里的年华【原创PV付】.mp4\n",
      "\n"
     ]
    }
   ],
   "source": [
    "import requests as re\n",
    "from bs4 import BeautifulSoup\n",
    "import os,subprocess\n",
    "playlist_id = input(\"输入你的playlist id 如 1679364963 \")\n",
    "page =  int(input(\"输入你收藏夹页码数 如3\"))\n",
    "url1 = \"https://api.bilibili.com/x/v3/fav/resource/list?media_id=\"+str(playlist_id)+\"&pn=\"\n",
    "url2 = \"&ps=20&keyword=&order=mtime&type=0&tid=0&platform=web\"\n",
    "bv_list = []\n",
    "\n",
    "for i in range(page):\n",
    "    url = url1+str(i+1)+url2\n",
    "    #print(url)\n",
    "    html = re.get(url)\n",
    "    html_text = html.text\n",
    "    #soup = BeautifulSoup(html_text, 'html.parser')\n",
    "    text = html_text\n",
    "    #print(text)\n",
    "    text_list = text.split(\",\")\n",
    "    for i in text_list:\n",
    "        if('bv_id' in i and i not in bv_list):\n",
    "            bv_list.append(i)\n",
    "\n",
    "t= []\n",
    "href = \"https://www.bilibili.com/video/\"\n",
    "for i in bv_list:\n",
    "    t.append(href+i.split(\":\")[1].strip('\\\"'))\n",
    "print(\"输出 playlist.txt 储存链接\")\n",
    "with open(\"playlist.txt\",\"w\") as f:\n",
    "    for i in t:\n",
    "        f.write(i+\"\\n\")\n",
    "        print(i)\n",
    "\n",
    "#https://api.bilibili.com/x/v3/fav/resource/list?media_id=1723081263&pn=2&ps=20&keyword=&order=mtime&type=0&tid=0&platform=web\n",
    "\n",
    "\n",
    "\n",
    "#print(os.system(\"lux -o E:\\LTH\\Music\\bilibili_video -c cookie2.txt -F playlist.txt\"))\n",
    "store_location = \"E:\\\\LTH\\\\Music\\\\bilibili_video\"\n",
    "# cookie need download by yourself \n",
    "cmd =\"lux -o\"+store_location+\"-c cookie2.txt -F playlist.txt\"\n",
    "with  subprocess.Popen(\n",
    "            cmd,\n",
    "            stdout=subprocess.PIPE,\n",
    "            stderr=subprocess.DEVNULL,\n",
    "            stdin=subprocess.DEVNULL,\n",
    "            shell=True,\n",
    "    ) as stream:\n",
    "        stdout = stream.communicate()[0].decode('utf-8')\n",
    "        print(stdout)\n"
   ]
  },
  {
   "cell_type": "code",
   "execution_count": null,
   "id": "f16b45f8",
   "metadata": {},
   "outputs": [],
   "source": []
  }
 ],
 "metadata": {
  "kernelspec": {
   "display_name": "Python 3 (ipykernel)",
   "language": "python",
   "name": "python3"
  },
  "language_info": {
   "codemirror_mode": {
    "name": "ipython",
    "version": 3
   },
   "file_extension": ".py",
   "mimetype": "text/x-python",
   "name": "python",
   "nbconvert_exporter": "python",
   "pygments_lexer": "ipython3",
   "version": "3.10.9"
  }
 },
 "nbformat": 4,
 "nbformat_minor": 5
}
